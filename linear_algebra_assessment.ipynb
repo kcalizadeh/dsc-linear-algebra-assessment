{
 "cells": [
  {
   "cell_type": "markdown",
   "metadata": {},
   "source": [
    "# Assessments\n",
    "YW\n",
    "* write a function to find the mean of a list of numbers\n",
    "* write a function that calculates a dot product\n",
    "* write a function that centers an array on the mean \n",
    "* write a function to calculate the standard deviation of a list of a numbers (preferably using a dot product)\n",
    "* write a function to calculate the correlation and covariance of two lists\n",
    "* write a function to calculate the cost between ytrue and ypred"
   ]
  },
  {
   "cell_type": "code",
   "execution_count": 6,
   "metadata": {},
   "outputs": [],
   "source": [
    "import numpy as np\n",
    "\n",
    "def mean_center(lst1):\n",
    "    return np.array(lst1) - np.mean(lst1)\n",
    "\n",
    "\n",
    "def dot_product(lst1, lst2):\n",
    "    \"\"\"\n",
    "    write a function that takes in a list \n",
    "    of numbers and returns their dot product\n",
    "    \"\"\"\n",
    "    pass"
   ]
  },
  {
   "cell_type": "code",
   "execution_count": 7,
   "metadata": {},
   "outputs": [
    {
     "output_type": "execute_result",
     "data": {
      "text/plain": [
       "array([-1.,  0.,  1.])"
      ]
     },
     "metadata": {},
     "execution_count": 7
    }
   ],
   "source": [
    "hat = [1, 2, 3]\n",
    "mean_center(hat)"
   ]
  },
  {
   "cell_type": "markdown",
   "metadata": {},
   "source": [
    "# Standard Deviation Formula\n",
    "![](images/standard-deviation.png)"
   ]
  },
  {
   "cell_type": "code",
   "execution_count": 5,
   "metadata": {},
   "outputs": [],
   "source": [
    "def standard_deviation(lst1):\n",
    "    \"\"\"\n",
    "    write a function that takes in a list\n",
    "    of numbers and returns its standard deviation\n",
    "    \"\"\"\n",
    "    pass"
   ]
  },
  {
   "cell_type": "markdown",
   "metadata": {},
   "source": [
    "# Covariance Formula\n",
    "![](images/covariance.png)"
   ]
  },
  {
   "cell_type": "code",
   "execution_count": 6,
   "metadata": {},
   "outputs": [],
   "source": [
    "def covariance(lst1, lst2):\n",
    "    \"\"\"\n",
    "    write an function that takes in two lists\n",
    "    of numbers and returns their covariance\n",
    "    \"\"\"\n",
    "    pass"
   ]
  },
  {
   "cell_type": "markdown",
   "metadata": {},
   "source": [
    "# Correlation Formula\n",
    "![](images/correlation.png)"
   ]
  },
  {
   "cell_type": "code",
   "execution_count": 7,
   "metadata": {},
   "outputs": [],
   "source": [
    "def correlation(lst1, lst2):\n",
    "    \"\"\"\n",
    "    write an function that takes in two lists \n",
    "    of numbers and returns their correlation\n",
    "    \"\"\"\n",
    "    pass"
   ]
  },
  {
   "cell_type": "markdown",
   "metadata": {},
   "source": [
    "# RMSE Formula\n",
    "![](images/rmse.png)"
   ]
  },
  {
   "cell_type": "code",
   "execution_count": 9,
   "metadata": {},
   "outputs": [],
   "source": [
    "def rmse(ytrue, ypred):\n",
    "    \"\"\"\n",
    "    write a function that takes in ytrue and ypred\n",
    "    and returns their root mean squared error\n",
    "    \"\"\"\n",
    "    pass"
   ]
  },
  {
   "cell_type": "markdown",
   "metadata": {},
   "source": [
    "# RSS Formula \n",
    "![](images/rss.png)"
   ]
  },
  {
   "cell_type": "code",
   "execution_count": 10,
   "metadata": {},
   "outputs": [],
   "source": [
    "def rss(ytrue, ypred):\n",
    "    \"\"\"\n",
    "    write a function that takes in ytrue and ypred\n",
    "    and returns their rss\n",
    "    \"\"\"\n",
    "    pass "
   ]
  }
 ],
 "metadata": {
  "kernelspec": {
   "name": "Python 3.6.9 64-bit ('learn-env': conda)",
   "display_name": "Python 3.6.9 64-bit ('learn-env': conda)",
   "metadata": {
    "interpreter": {
     "hash": "9ac4d3343b464ceb9c6b349fee6aeea784c980ce57d0bbc1775a5f7d482c030a"
    }
   }
  },
  "language_info": {
   "codemirror_mode": {
    "name": "ipython",
    "version": 3
   },
   "file_extension": ".py",
   "mimetype": "text/x-python",
   "name": "python",
   "nbconvert_exporter": "python",
   "pygments_lexer": "ipython3",
   "version": "3.6.9-final"
  }
 },
 "nbformat": 4,
 "nbformat_minor": 4
}
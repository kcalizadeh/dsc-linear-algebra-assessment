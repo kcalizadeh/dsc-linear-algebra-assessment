{
 "cells": [
  {
   "cell_type": "markdown",
   "metadata": {},
   "source": [
    "# Assessments\n",
    "YW\n",
    "* write a function to find the mean of a list of numbers\n",
    "* write a function that calculates a dot product\n",
    "* write a function that centers an array on the mean \n",
    "* write a function to calculate the standard deviation of a list of a numbers (preferably using a dot product)\n",
    "* write a function to calculate the correlation and covariance of two lists\n",
    "* write a function to calculate the cost between ytrue and ypred"
   ]
  },
  {
   "cell_type": "code",
   "execution_count": null,
   "metadata": {},
   "outputs": [],
   "source": [
    "hat = [1, 2, 3]\n",
    "bird = [2, 3, 4]"
   ]
  },
  {
   "cell_type": "code",
   "execution_count": 6,
   "metadata": {},
   "outputs": [],
   "source": [
    "import numpy as np\n",
    "\n",
    "def mean_center(lst1):\n",
    "    return np.array(lst1) - np.mean(lst1)\n",
    "\n",
    "\n",
    "def dot_product(lst1, lst2):\n",
    "    total = 0\n",
    "    for a1, b1 in zip(lst1, lst2):\n",
    "        total += a1 * b1\n",
    "    return total"
   ]
  },
  {
   "cell_type": "code",
   "execution_count": 10,
   "metadata": {},
   "outputs": [
    {
     "output_type": "stream",
     "name": "stdout",
     "text": [
      "[-1.  0.  1.]\n20\n"
     ]
    }
   ],
   "source": [
    "print(mean_center(hat))\n",
    "print(dot_product(hat, bird))"
   ]
  },
  {
   "cell_type": "markdown",
   "metadata": {},
   "source": [
    "# Standard Deviation Formula\n",
    "![](images/standard-deviation.png)"
   ]
  },
  {
   "cell_type": "code",
   "execution_count": 8,
   "metadata": {},
   "outputs": [],
   "source": [
    "def standard_deviation(lst1):\n",
    "    numerator = np.abs(mean_center(lst1)).dot(np.abs(mean_center(lst1)))\n",
    "    denom = len(lst1)\n",
    "    return np.sqrt(numerator / denom)\n"
   ]
  },
  {
   "cell_type": "code",
   "execution_count": 9,
   "metadata": {},
   "outputs": [
    {
     "output_type": "execute_result",
     "data": {
      "text/plain": [
       "0.816496580927726"
      ]
     },
     "metadata": {},
     "execution_count": 9
    }
   ],
   "source": [
    "standard_deviation(hat)"
   ]
  },
  {
   "cell_type": "markdown",
   "metadata": {},
   "source": [
    "# Covariance Formula\n",
    "![](images/covariance.png)"
   ]
  },
  {
   "cell_type": "code",
   "execution_count": 11,
   "metadata": {},
   "outputs": [],
   "source": [
    "def covariance(lst1, lst2):\n",
    "    return mean_center(lst1).dot(mean_center(lst2)) / len(lst1)"
   ]
  },
  {
   "cell_type": "code",
   "execution_count": 12,
   "metadata": {},
   "outputs": [
    {
     "output_type": "execute_result",
     "data": {
      "text/plain": [
       "0.6666666666666666"
      ]
     },
     "metadata": {},
     "execution_count": 12
    }
   ],
   "source": [
    "covariance(hat, bird)"
   ]
  },
  {
   "cell_type": "markdown",
   "metadata": {},
   "source": [
    "# Correlation Formula\n",
    "![](images/correlation.png)"
   ]
  },
  {
   "cell_type": "code",
   "execution_count": 22,
   "metadata": {},
   "outputs": [],
   "source": [
    "def correlation(lst1, lst2):\n",
    "    numerator = mean_center(lst1).dot(mean_center(lst2))\n",
    "    denom = np.sqrt(mean_center(lst1).dot(mean_center(lst1) * mean_center(lst2).dot(mean_center(lst2))))\n",
    "    return numerator / denom\n"
   ]
  },
  {
   "cell_type": "code",
   "execution_count": 23,
   "metadata": {},
   "outputs": [
    {
     "output_type": "execute_result",
     "data": {
      "text/plain": [
       "1.0"
      ]
     },
     "metadata": {},
     "execution_count": 23
    }
   ],
   "source": [
    "correlation(hat, bird)"
   ]
  },
  {
   "cell_type": "markdown",
   "metadata": {},
   "source": [
    "# RMSE Formula\n",
    "![](images/rmse.png)"
   ]
  },
  {
   "cell_type": "code",
   "execution_count": 27,
   "metadata": {},
   "outputs": [],
   "source": [
    "def rmse(ytrue, ypred):\n",
    "    ytrue = np.array(ytrue)\n",
    "    ypred = np.array(ypred)\n",
    "    return np.sqrt((ypred - ytrue).dot(ypred - ytrue) / len(ytrue))\n",
    "    "
   ]
  },
  {
   "cell_type": "code",
   "execution_count": 28,
   "metadata": {},
   "outputs": [
    {
     "output_type": "execute_result",
     "data": {
      "text/plain": [
       "1.0"
      ]
     },
     "metadata": {},
     "execution_count": 28
    }
   ],
   "source": [
    "rmse(hat, bird)"
   ]
  },
  {
   "cell_type": "markdown",
   "metadata": {},
   "source": [
    "# RSS Formula \n",
    "![](images/rss.png)"
   ]
  },
  {
   "cell_type": "code",
   "execution_count": 31,
   "metadata": {},
   "outputs": [],
   "source": [
    "def rss(ytrue, ypred):\n",
    "    ytrue = np.array(ytrue)\n",
    "    ypred = np.array(ypred)\n",
    "    return (ytrue - ypred).dot(ytrue - ypred)"
   ]
  },
  {
   "cell_type": "code",
   "execution_count": 32,
   "metadata": {},
   "outputs": [
    {
     "output_type": "execute_result",
     "data": {
      "text/plain": [
       "3"
      ]
     },
     "metadata": {},
     "execution_count": 32
    }
   ],
   "source": [
    "rss(hat, bird)"
   ]
  },
  {
   "cell_type": "code",
   "execution_count": null,
   "metadata": {},
   "outputs": [],
   "source": []
  }
 ],
 "metadata": {
  "kernelspec": {
   "name": "Python 3.6.9 64-bit ('learn-env': conda)",
   "display_name": "Python 3.6.9 64-bit ('learn-env': conda)",
   "metadata": {
    "interpreter": {
     "hash": "9ac4d3343b464ceb9c6b349fee6aeea784c980ce57d0bbc1775a5f7d482c030a"
    }
   }
  },
  "language_info": {
   "codemirror_mode": {
    "name": "ipython",
    "version": 3
   },
   "file_extension": ".py",
   "mimetype": "text/x-python",
   "name": "python",
   "nbconvert_exporter": "python",
   "pygments_lexer": "ipython3",
   "version": "3.6.9-final"
  }
 },
 "nbformat": 4,
 "nbformat_minor": 4
}